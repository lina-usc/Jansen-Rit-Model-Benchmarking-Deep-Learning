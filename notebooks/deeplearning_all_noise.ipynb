{
 "cells": [
  {
   "cell_type": "code",
   "execution_count": 1,
   "metadata": {},
   "outputs": [
    {
     "name": "stderr",
     "output_type": "stream",
     "text": [
      "2024-06-15 18:02:48.135768: I tensorflow/core/platform/cpu_feature_guard.cc:182] This TensorFlow binary is optimized to use available CPU instructions in performance-critical operations.\n",
      "To enable the following instructions: AVX2 FMA, in other operations, rebuild TensorFlow with the appropriate compiler flags.\n"
     ]
    }
   ],
   "source": [
    "from pathlib import Path\n",
    "\n",
    "from deepjr.inference import reset_random_seeds, estimate_parameters"
   ]
  },
  {
   "cell_type": "code",
   "execution_count": 2,
   "metadata": {},
   "outputs": [
    {
     "name": "stdout",
     "output_type": "stream",
     "text": [
      "Epoch 1/2\n",
      "1/1 [==============================] - 6s 6s/step - loss: 4.7897 - mse: 1.0596 - val_loss: 4.5481 - val_mse: 1.0823\n",
      "Epoch 2/2\n",
      "1/1 [==============================] - 0s 427ms/step - loss: 3.1688 - mse: 0.7296 - val_loss: 4.0658 - val_mse: 0.9685\n",
      "1/1 [==============================] - 0s 85ms/step - loss: 4.5295 - mse: 0.9599\n",
      "Results for all: Loss = 4.5294976234436035, MSE = 0.9599164724349976\n",
      "1/1 [==============================] - 1s 926ms/step\n"
     ]
    }
   ],
   "source": [
    "# Column names\n",
    "colmuns_to_call = ['all'] # predicting all parameters together\n",
    "estimated_parameters = ['A_e', 'A_i', 'b_e', 'b_i', 'a_1', 'a_2', 'a_3', 'a_4']\n",
    "noise_fact = [1.0]\n",
    "nb_simulations = 10\n",
    "\n",
    "base_path = Path('deepjr_training_data')\n",
    "base_path.mkdir(exist_ok=True)\n",
    "\n",
    "pred_path = base_path / 'predictions'\n",
    "pred_path.mkdir(exist_ok=True)\n",
    "\n",
    "#save the results in the path\n",
    "results_file_path = pred_path / \"correlation_results.txt\"\n",
    "\n",
    "    # Loop over each parameter\n",
    "for parameter in colmuns_to_call :\n",
    "    for noise in noise_fact:\n",
    "        reset_random_seeds()  # Reset the seeds\n",
    "\n",
    "        estimate_parameters(parameter, noise, base_path, pred_path, results_file_path, estimated_parameters,\n",
    "                            nb_simulations=nb_simulations, epochs=2)\n"
   ]
  }
 ],
 "metadata": {
  "kernelspec": {
   "display_name": ".venv",
   "language": "python",
   "name": "python3"
  },
  "language_info": {
   "codemirror_mode": {
    "name": "ipython",
    "version": 3
   },
   "file_extension": ".py",
   "mimetype": "text/x-python",
   "name": "python",
   "nbconvert_exporter": "python",
   "pygments_lexer": "ipython3",
   "version": "3.9.7"
  }
 },
 "nbformat": 4,
 "nbformat_minor": 2
}
