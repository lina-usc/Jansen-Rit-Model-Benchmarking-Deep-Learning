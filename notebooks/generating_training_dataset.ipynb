{
 "cells": [
  {
   "cell_type": "code",
   "execution_count": 1,
   "id": "80dbcf03",
   "metadata": {
    "id": "80dbcf03",
    "outputId": "7b165716-aede-4e7a-fe7d-3e8d0e3bbd2e"
   },
   "outputs": [],
   "source": [
    "#Importing libraries\n",
    "import matplotlib.pyplot as plt\n",
    "import mne\n",
    "from pathlib import Path\n",
    "import seaborn as sns\n",
    "\n",
    "from deepjr.simulation import jr_typical_param\n",
    "from deepjr.simulation import JRSimulator, EventRelatedExp, SimResults"
   ]
  },
  {
   "cell_type": "markdown",
   "id": "87f7d895",
   "metadata": {
    "id": "87f7d895"
   },
   "source": [
    "# Genral Information\n",
    "\n",
    "These are the values for the Jansen Rit Model which are available in the literature, particularly from [this paper](https://mathematical-neuroscience.springeropen.com/articles/10.1186/s13408-017-0046-4/tables/1). The value of $v_{max}$ was corrected from 5 Hz to 50 Hz, a more reasonable value and a value that compatible with other publications (e.g., [this one](https://link.springer.com/article/10.1007/s10827-013-0493-1#Tab1)). Minimum and maximum values are defined as per [the code of The Virtual Brain](https://docs.thevirtualbrain.org/_modules/tvb/simulator/models/jansen_rit.html).\n",
    "\n",
    "\n",
    "\n",
    "\n",
    "| Parameter  | Description                                                                  | Typical value | min value | max value |\n",
    "| ---------- | ---------------------------------------------------------------------------- | ------------- | --------- | --------- |\n",
    "| $A_e$      | Average excitatory synaptic gain                                             | 3.25 mV       | 2.6 mV    | 9.75 mV   | \n",
    "| $A_i$      | Average inhibitory synaptic gain \t                                        | 22 mV         | 17.6 mV   | 110.0 mV  |\n",
    "| $b_e$\t     | Inverse of the time constant of excitatory postsynaptic potential            | 100 Hz        | 50 Hz     | 150 Hz    |\n",
    "| $b_i$\t     | Inverse of the time constant of inhibitory postsynaptic potential            | 50 Hz         | 25 Hz     | 75 Hz     |\n",
    "| $C$\t     | Average number of synapses between the populations \t                        | 135           | 65        | 1350      |\n",
    "| $a_1$      | Average probability of synaptic contacts in the feedback excitatory loop     | 1.0           | 0.5       | 1.5       |\n",
    "| $a_2$\t     | Average probability of synaptic contacts in the slow feedback excitatory loop| 0.8           | 0.4       | 1.2       |\n",
    "| $a_3$\t     | Average probability of synaptic contacts in the feedback inhibitory loop     | 0.25          | 0.125     | 0.375     |\n",
    "| $a_4$\t     | Average probability of synaptic contacts in the slow feedback inhibitory loop| 0.25          | 0.125     | 0.375     |\n",
    "| $v_{max}$  | Maximum firing rate of the neural populations (max. of sigmoid fct.)         | 50 Hz         |     -     |     -     | \n",
    "| $v_0$      | Value for which 50% of the maximum firing rate is attained \t                | 6 mV          | 3.12 mV   | 6.0 mV    |\n",
    "\n",
    "\n"
   ]
  },
  {
   "cell_type": "code",
   "execution_count": null,
   "metadata": {},
   "outputs": [],
   "source": [
    "# Default Parameters from Jansen RIT model\n",
    "parameters = dict(jr_typical_param)\n"
   ]
  },
  {
   "cell_type": "code",
   "execution_count": null,
   "metadata": {},
   "outputs": [],
   "source": [
    "parameters"
   ]
  },
  {
   "cell_type": "markdown",
   "metadata": {},
   "source": [
    "### Getting and info structure, a montage, and a noise covariance matrix for simulation"
   ]
  },
  {
   "cell_type": "code",
   "execution_count": null,
   "metadata": {},
   "outputs": [],
   "source": [
    "# Set up the simulator. This also create a head model for EEG simulation.\n",
    "jr_sim = JRSimulator()\n",
    "\n",
    "# Set the experiment.\n",
    "er_exp = EventRelatedExp(jr_sim.info)"
   ]
  },
  {
   "cell_type": "code",
   "execution_count": null,
   "id": "7f32e18b",
   "metadata": {},
   "outputs": [],
   "source": [
    "# Plot the montage with adjusted font size\n",
    "fig, ax = plt.subplots(1, 1, figsize=(6, 6))\n",
    "mne.viz.plot_montage(jr_sim.montage, scale_factor=20, axes=ax, show_names=True)\n",
    "\n",
    "fig.savefig('montage_plot.png', dpi=300, bbox_inches='tight')"
   ]
  },
  {
   "cell_type": "markdown",
   "id": "4c653e31",
   "metadata": {},
   "source": [
    "### Generate stimulus"
   ]
  },
  {
   "cell_type": "code",
   "execution_count": null,
   "id": "f1162dae",
   "metadata": {},
   "outputs": [],
   "source": [
    "er_exp.plot_stimulus()"
   ]
  },
  {
   "cell_type": "markdown",
   "id": "5a9ac91f",
   "metadata": {},
   "source": [
    "### Run an example of simulation"
   ]
  },
  {
   "cell_type": "code",
   "execution_count": null,
   "id": "33e34f68",
   "metadata": {},
   "outputs": [],
   "source": [
    "jr_sim.run_simulation(er_exp, parameters, jr_noise_sd=0.0)\n",
    "jr_sim.plot_jr_results();"
   ]
  },
  {
   "cell_type": "code",
   "execution_count": null,
   "metadata": {},
   "outputs": [],
   "source": [
    "noise_fact = 1 #1e3\n",
    "\n",
    "jr_sim.generate_raw(seed=0, noise_fact=noise_fact)\n",
    "jr_sim.raw.plot();"
   ]
  },
  {
   "cell_type": "code",
   "execution_count": null,
   "metadata": {},
   "outputs": [],
   "source": [
    "jr_sim.generate_evoked(er_exp)\n",
    "jr_sim.evoked.plot();"
   ]
  },
  {
   "cell_type": "code",
   "execution_count": null,
   "metadata": {},
   "outputs": [],
   "source": [
    "jr_sim.evoked.plot_topomap();"
   ]
  },
  {
   "cell_type": "markdown",
   "id": "b3758385",
   "metadata": {},
   "source": [
    "## EEG simulations"
   ]
  },
  {
   "cell_type": "code",
   "execution_count": null,
   "id": "617c9901",
   "metadata": {},
   "outputs": [],
   "source": [
    "recompute = False\n",
    "\n",
    "base_path = Path('deepjr_training_data')\n",
    "base_path.mkdir(exist_ok=True)\n",
    "method = 'normal'  # normal distribution of parameters\n",
    "nb_sims = 1000\n",
    "sim_results = SimResults(nb_sims, noise_fact, base_path)\n",
    "\n",
    "if not sim_results.full_path.exists() or recompute:\n",
    "    # Simulation per parameter calling the function\n",
    "    mne.set_log_level(verbose=False)\n",
    "    jr_sim.simulate_for_parameter(er_exp, method=method, \n",
    "                                  nb_sims=nb_sims, noise_fact=noise_fact,\n",
    "                                  base_path=base_path, use_tqdm=True)"
   ]
  },
  {
   "cell_type": "code",
   "execution_count": null,
   "metadata": {},
   "outputs": [],
   "source": [
    "sim_results = SimResults(nb_sims, noise_fact, base_path)\n",
    "sim_results.load()\n",
    "sim_results.clean()\n",
    "sim_results.plot_evoked_heatmap()"
   ]
  },
  {
   "cell_type": "code",
   "execution_count": null,
   "metadata": {},
   "outputs": [],
   "source": [
    "sns.displot(sim_results.snr)"
   ]
  },
  {
   "cell_type": "markdown",
   "metadata": {},
   "source": [
    "# Training"
   ]
  },
  {
   "cell_type": "code",
   "execution_count": null,
   "metadata": {},
   "outputs": [],
   "source": [
    "from deepjr.inference import JRInvModel\n",
    "from deepjr.utils import reset_random_seeds\n",
    "\n",
    "recompute = True\n",
    "epochs = 150\n",
    "batch_size=32\n",
    "\n",
    "inv_model = JRInvModel(nb_sims=nb_sims, noise_fact=noise_fact, path=base_path)\n",
    "\n",
    "if not inv_model.full_path_model.exists() or recompute:\n",
    "    reset_random_seeds()  # Reset the seeds\n",
    "    inv_model.train_model(epochs, batch_size=batch_size)\n",
    "    inv_model.save()\n",
    "else:\n",
    "    inv_model.load()"
   ]
  },
  {
   "cell_type": "markdown",
   "metadata": {},
   "source": [
    "# Assessment"
   ]
  },
  {
   "cell_type": "code",
   "execution_count": null,
   "metadata": {},
   "outputs": [],
   "source": [
    "# Create a small testing set\n",
    "mne.set_log_level(verbose=False)\n",
    "jr_sim.simulate_for_parameter(er_exp, method=\"normal\", \n",
    "                              nb_sims=50, noise_fact=noise_fact,\n",
    "                              save=False, use_tqdm=True)\n",
    "jr_sim.sim_results.clean()\n",
    "sim_results.plot_evoked_heatmap()\n",
    "\n",
    "dataset = jr_sim.sim_results.dataset"
   ]
  },
  {
   "cell_type": "code",
   "execution_count": null,
   "metadata": {},
   "outputs": [],
   "source": [
    "X = dataset.evoked.transpose(\"sim_no\", \"time\", \"ch_names\").values\n",
    "y = dataset.parameters.sel(param=inv_model.estim_params).values"
   ]
  },
  {
   "cell_type": "code",
   "execution_count": null,
   "metadata": {},
   "outputs": [],
   "source": [
    "inv_model.assess_model(parameter='all', X=X, y=y)"
   ]
  },
  {
   "cell_type": "code",
   "execution_count": null,
   "metadata": {},
   "outputs": [],
   "source": [
    "inv_model.plot_test_regressions(X=X, y=y)"
   ]
  },
  {
   "cell_type": "code",
   "execution_count": null,
   "metadata": {},
   "outputs": [],
   "source": []
  }
 ],
 "metadata": {
  "colab": {
   "provenance": []
  },
  "kernelspec": {
   "display_name": ".venv",
   "language": "python",
   "name": "python3"
  },
  "language_info": {
   "codemirror_mode": {
    "name": "ipython",
    "version": 3
   },
   "file_extension": ".py",
   "mimetype": "text/x-python",
   "name": "python",
   "nbconvert_exporter": "python",
   "pygments_lexer": "ipython3",
   "version": "3.12.8"
  }
 },
 "nbformat": 4,
 "nbformat_minor": 5
}
